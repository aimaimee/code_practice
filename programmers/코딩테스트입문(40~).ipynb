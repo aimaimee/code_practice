{
 "cells": [
  {
   "cell_type": "code",
   "execution_count": null,
   "metadata": {},
   "outputs": [],
   "source": [
    "# 40. 세균 증식\n",
    "# 23/05/03\n",
    "# 처음 시작은 answer=0 이니까 1시간일 때는 n*2를 answer에 넣어줌\n",
    "# 그 다음 2시간~t시간까지는 answer 값에 두 배를 해준 값을 answer로 설정\n",
    "def solution(n, t):\n",
    "    answer = 0\n",
    "    for i in range(1, t+1):\n",
    "        if i == 1:\n",
    "            answer = n*2\n",
    "        else:\n",
    "            answer = answer*2\n",
    "    return answer"
   ]
  },
  {
   "cell_type": "code",
   "execution_count": null,
   "metadata": {},
   "outputs": [],
   "source": [
    "# 그냥 range(t)해도 가능\n",
    "# 다른 방법으로는 n*(2**t)\n",
    "def solution(n, t):\n",
    "    answer = 0\n",
    "    for i in range(t):\n",
    "        n *= 2\n",
    "    return n"
   ]
  },
  {
   "cell_type": "code",
   "execution_count": null,
   "metadata": {},
   "outputs": [],
   "source": [
    "# 좋아요 많이 받은 풀이\n",
    "# 재귀, 비트 연산 공부\n",
    "def solution(n, t):\n",
    "    return n << t"
   ]
  },
  {
   "cell_type": "code",
   "execution_count": null,
   "metadata": {},
   "outputs": [],
   "source": [
    "# 41. 대문자와 소문자\n",
    "# 23/05/08\n",
    "# 처음에 대문자 리스트와 소문자 리스트를 따로 만들어서 결과값을 append해주고\n",
    "# 리스트를 join 후 각 리스트를 + 더해줬다.\n",
    "# 그렇게 되면 순서가 입력값 순서대로 출력이 되지 않는다.\n",
    "# 그래서 answerlist라는 하나의 리스트를 만들어서 append 해주었다.\n",
    "def solution(my_string):\n",
    "    answer = ''\n",
    "    answerlist = []\n",
    "    for i in my_string:\n",
    "        if i.isupper() == True:\n",
    "            answerlist.append(i.lower())\n",
    "        elif i.islower() == True:\n",
    "            answerlist.append(i.upper())\n",
    "        answer = ''.join(answerlist)\n",
    "    return answer"
   ]
  },
  {
   "cell_type": "code",
   "execution_count": null,
   "metadata": {},
   "outputs": [],
   "source": [
    "# isupper(), islower()를 사용할거면\n",
    "# 리스트를 생성하지 않고 그대로 answer += i.lower()식으로 추가해도 되는구나\n",
    "# if 문에서 isupper()가 True라면, 이라고 설정을 안해줘도 된다.\n",
    "def solution(my_string):\n",
    "    answer = ''\n",
    "    for i in my_string:\n",
    "        if i.isupper():\n",
    "            answer += i.lower()\n",
    "        elif i.islower():\n",
    "            answer += i.upper()\n",
    "    return answer"
   ]
  },
  {
   "cell_type": "code",
   "execution_count": null,
   "metadata": {},
   "outputs": [],
   "source": [
    "# 42. 주사위의 개수\n",
    "# 23/05/10\n",
    "# 각 변을 n으로 나눈 후 몫들의 곱이 상자가 들어갈 수 있는 개수가 된다.\n",
    "# [10, 8, 6]인 box가 주어졌을 때, n인 3으로 나눈 몫은 3, 2, 2이고 이들의 곱인 12개가 답이 된다.\n",
    "def solution(box, n):\n",
    "    answer = 0\n",
    "    a = box[0] // n\n",
    "    b = box[1] // n\n",
    "    c = box[2] // n\n",
    "    answer = a * b * c\n",
    "    return answer"
   ]
  },
  {
   "cell_type": "code",
   "execution_count": null,
   "metadata": {},
   "outputs": [],
   "source": [
    "# 43. 직각삼각형 출력하기\n",
    "# 23/05/11\n",
    "# i는 0부터 시작하니까, 1*'*'를 출력해주기 위해서 i+1을 곱해준다.\n",
    "n = int(input())\n",
    "for i in range(n):\n",
    "    print('*'*(i+1))"
   ]
  },
  {
   "cell_type": "code",
   "execution_count": null,
   "metadata": {},
   "outputs": [],
   "source": [
    "# 44. 최댓값 만들기(2)\n",
    "# 23/05/12\n",
    "# numbers라는 리스트를 i와 j가 순회하면서\n",
    "# i와 j가 같지 않다면 i*j를 answer 리스트에 넣어준다.\n",
    "# max()를 하면 리스트 내 최대값을 출력해준다.\n",
    "# 테스트 8과 9에서 런타임 에러..\n",
    "def solution(numbers):\n",
    "    answer = []\n",
    "    for i in numbers:\n",
    "        for j in numbers:\n",
    "            if i != j:\n",
    "                answer.append(i*j)\n",
    "    return max(answer)"
   ]
  },
  {
   "cell_type": "code",
   "execution_count": 9,
   "metadata": {},
   "outputs": [
    {
     "data": {
      "text/plain": [
       "(-5, -3, 4)"
      ]
     },
     "execution_count": 9,
     "metadata": {},
     "output_type": "execute_result"
    }
   ],
   "source": [
    "numbers = [1,2,-3, 4, -5]\n",
    "numbers.sort()\n",
    "numbers[0], numbers[1], numbers[-1]"
   ]
  },
  {
   "cell_type": "code",
   "execution_count": null,
   "metadata": {},
   "outputs": [],
   "source": [
    "# sorted(numbers) 가능\n",
    "# max(양수*양수, 음수*음수) 가능\n",
    "def solution(numbers):\n",
    "    answer = 0\n",
    "    numbers.sort()\n",
    "    a = numbers[0] * numbers[1]\n",
    "    b = numbers[-1] * numbers[-2]\n",
    "    if a > b :\n",
    "        answer = a\n",
    "    else:\n",
    "        answer = b\n",
    "    return answer"
   ]
  },
  {
   "cell_type": "code",
   "execution_count": null,
   "metadata": {},
   "outputs": [],
   "source": [
    "# 45. 문자열 정렬하기 (1)\n",
    "# 23/05/13\n",
    "def solution(my_string):\n",
    "    answer = []\n",
    "    for i in my_string:\n",
    "        if i.isdigit() == True: # .isdigit() 숫자를 판별해줌\n",
    "            answer.append(int(i)) # int(i)를 하지 않으면 str으로 들어감. ex) [\"1\", \"2\"]\n",
    "            answer.sort() # 오름차순 정렬\n",
    "    return answer"
   ]
  }
 ],
 "metadata": {
  "kernelspec": {
   "display_name": "base",
   "language": "python",
   "name": "python3"
  },
  "language_info": {
   "codemirror_mode": {
    "name": "ipython",
    "version": 3
   },
   "file_extension": ".py",
   "mimetype": "text/x-python",
   "name": "python",
   "nbconvert_exporter": "python",
   "pygments_lexer": "ipython3",
   "version": "3.9.13"
  },
  "orig_nbformat": 4
 },
 "nbformat": 4,
 "nbformat_minor": 2
}
