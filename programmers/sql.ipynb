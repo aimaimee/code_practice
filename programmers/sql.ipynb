{
 "cells": [
  {
   "cell_type": "code",
   "execution_count": null,
   "metadata": {},
   "outputs": [],
   "source": [
    "# 1. (SELECT) 12세 이하인 여자 환자 목록 출력하기\n",
    "# 23/04/10\n",
    "SELECT PT_NAME, PT_NO, GEND_CD, AGE\n",
    ", IFNULL(TLNO, \"NONE\") AS TLNO\n",
    "# CASE WHEN 으로는 하면 안되나? => 해결\n",
    "#, CASE WHEN TLNO IS NULL THEN \"NONE\" AS TLNO\n",
    "FROM PATIENT\n",
    "WHERE AGE <= 12 AND GEND_CD = \"W\"\n",
    "ORDER BY AGE DESC, PT_NAME ASC"
   ]
  },
  {
   "cell_type": "code",
   "execution_count": null,
   "metadata": {},
   "outputs": [],
   "source": [
    "# 1. (SELECT) 12세 이하인 여자 환자 목록 출력하기\n",
    "# 23/04/11\n",
    "# 하지만 너무 길어져서 보다 간단한 IFNULL()을 사용하는 듯 하다.\n",
    "# 참고 : https://kk-programming.tistory.com/102\n",
    "SELECT PT_NAME, PT_NO, GEND_CD, AGE\n",
    ", CASE WHEN TLNO IS NULL THEN \"NONE\"\n",
    "ELSE TLNO END AS TLNO\n",
    "FROM PATIENT\n",
    "WHERE AGE <= 12 AND GEND_CD = \"W\"\n",
    "ORDER BY AGE DESC, PT_NAME ASC"
   ]
  },
  {
   "cell_type": "code",
   "execution_count": null,
   "metadata": {},
   "outputs": [],
   "source": [
    "# 2.(SUM, MAX, MIN) 가장 비싼 상품 구하기 https://school.programmers.co.kr/learn/courses/30/lessons/131697\n",
    "# 23/04/13\n",
    "SELECT PRICE AS MAX_PRICE\n",
    "FROM PRODUCT\n",
    "ORDER BY PRICE DESC\n",
    "LIMIT 1"
   ]
  },
  {
   "cell_type": "code",
   "execution_count": null,
   "metadata": {},
   "outputs": [],
   "source": [
    "# 3. (IS NULL) 경기도에 위치한 식품창고 목록 출력하기\n",
    "# 23/04/14\n",
    "# 와일드카드\n",
    "SELECT WAREHOUSE_ID, WAREHOUSE_NAME, ADDRESS,\n",
    "CASE WHEN FREEZER_YN IS NULL THEN 'N'\n",
    "ELSE FREEZER_YN END AS FREEZER_YN\n",
    "FROM FOOD_WAREHOUSE\n",
    "WHERE ADDRESS LIKE \"경기%\"\n",
    "ORDER BY WAREHOUSE_ID ASC"
   ]
  },
  {
   "cell_type": "code",
   "execution_count": null,
   "metadata": {},
   "outputs": [],
   "source": [
    "# IFNULL() 사용해보기\n",
    "SELECT WAREHOUSE_ID, WAREHOUSE_NAME, ADDRESS\n",
    ", IFNULL(FREEZER_YN, \"N\")\n",
    "FROM FOOD_WAREHOUSE\n",
    "WHERE ADDRESS LIKE \"경기%\"\n",
    "ORDER BY WAREHOUSE_ID ASC"
   ]
  },
  {
   "cell_type": "code",
   "execution_count": null,
   "metadata": {},
   "outputs": [],
   "source": [
    "# 4. (String, Date) 자동차 대여 기록에서 장기/단기 대여 구분하기\n",
    "# https://school.programmers.co.kr/learn/courses/30/lessons/151138\n",
    "# 23/04/15\n",
    "# DATE_FORMAT, DATEDIFF 개념\n",
    "# \"장기 대여\", \"단기 대여\" 띄어쓰기 주의\n",
    "SELECT HISTORY_ID, CAR_ID\n",
    ", DATE_FORMAT(START_DATE, \"%Y-%m-%d\") AS START_DATE\n",
    ", DATE_FORMAT(END_DATE, \"%Y-%m-%d\") AS END_DATE\n",
    ", IF(DATEDIFF(END_DATE, START_DATE) >= 29, \"장기 대여\", \"단기 대여\") AS RENT_TYPE\n",
    "FROM CAR_RENTAL_COMPANY_RENTAL_HISTORY\n",
    "WHERE DATE_FORMAT(START_DATE, \"%Y-%m\") LIKE \"2022-09\"\n",
    "ORDER BY HISTORY_ID DESC"
   ]
  }
 ],
 "metadata": {
  "language_info": {
   "name": "python"
  },
  "orig_nbformat": 4
 },
 "nbformat": 4,
 "nbformat_minor": 2
}
