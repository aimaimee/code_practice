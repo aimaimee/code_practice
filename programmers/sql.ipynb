{
 "cells": [
  {
   "cell_type": "code",
   "execution_count": null,
   "metadata": {},
   "outputs": [],
   "source": [
    "# 1. 12세 이하인 여자 환자 목록 출력하기\n",
    "SELECT PT_NAME, PT_NO, GEND_CD, AGE\n",
    ", IFNULL(TLNO, \"NONE\") AS TLNO\n",
    "# CASE WHEN 으로는 하면 안되나?\n",
    "#, CASE WHEN TLNO IS NULL THEN \"NONE\" AS TLNO\n",
    "FROM PATIENT\n",
    "WHERE AGE <= 12 AND GEND_CD = \"W\"\n",
    "ORDER BY AGE DESC, PT_NAME ASC"
   ]
  }
 ],
 "metadata": {
  "language_info": {
   "name": "python"
  },
  "orig_nbformat": 4
 },
 "nbformat": 4,
 "nbformat_minor": 2
}
