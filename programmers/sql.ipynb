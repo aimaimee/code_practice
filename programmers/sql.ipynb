{
 "cells": [
  {
   "cell_type": "code",
   "execution_count": null,
   "metadata": {},
   "outputs": [],
   "source": [
    "# 1. (SELECT) 12세 이하인 여자 환자 목록 출력하기\n",
    "# 23/04/10\n",
    "SELECT PT_NAME, PT_NO, GEND_CD, AGE\n",
    ", IFNULL(TLNO, \"NONE\") AS TLNO\n",
    "# CASE WHEN 으로는 하면 안되나? => 해결\n",
    "#, CASE WHEN TLNO IS NULL THEN \"NONE\" AS TLNO\n",
    "FROM PATIENT\n",
    "WHERE AGE <= 12 AND GEND_CD = \"W\"\n",
    "ORDER BY AGE DESC, PT_NAME ASC"
   ]
  },
  {
   "cell_type": "code",
   "execution_count": null,
   "metadata": {},
   "outputs": [],
   "source": [
    "# 1. (SELECT) 12세 이하인 여자 환자 목록 출력하기\n",
    "# 23/04/11\n",
    "# 하지만 너무 길어져서 보다 간단한 IFNULL()을 사용하는 듯 하다.\n",
    "# 참고 : https://kk-programming.tistory.com/102\n",
    "SELECT PT_NAME, PT_NO, GEND_CD, AGE\n",
    ", CASE WHEN TLNO IS NULL THEN \"NONE\"\n",
    "ELSE TLNO END AS TLNO\n",
    "FROM PATIENT\n",
    "WHERE AGE <= 12 AND GEND_CD = \"W\"\n",
    "ORDER BY AGE DESC, PT_NAME ASC"
   ]
  },
  {
   "cell_type": "code",
   "execution_count": null,
   "metadata": {},
   "outputs": [],
   "source": [
    "# 2.(SUM, MAX, MIN) 가장 비싼 상품 구하기 https://school.programmers.co.kr/learn/courses/30/lessons/131697\n",
    "# 23/04/13\n",
    "SELECT PRICE AS MAX_PRICE\n",
    "FROM PRODUCT\n",
    "ORDER BY PRICE DESC\n",
    "LIMIT 1"
   ]
  }
 ],
 "metadata": {
  "language_info": {
   "name": "python"
  },
  "orig_nbformat": 4
 },
 "nbformat": 4,
 "nbformat_minor": 2
}
