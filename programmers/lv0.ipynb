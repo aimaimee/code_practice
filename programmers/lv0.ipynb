{
 "cells": [
  {
   "cell_type": "markdown",
   "metadata": {},
   "source": [
    "## 프로그래머스 Lv0"
   ]
  },
  {
   "cell_type": "code",
   "execution_count": 2,
   "metadata": {},
   "outputs": [],
   "source": [
    "# 1. 두 수의 차\n",
    "def solution(num1, num2):\n",
    "    return num1 - num2"
   ]
  },
  {
   "cell_type": "code",
   "execution_count": 3,
   "metadata": {},
   "outputs": [],
   "source": [
    "# 2. 두 수의 곱\n",
    "def solution(num1, num2):\n",
    "    return num1*num2"
   ]
  },
  {
   "cell_type": "code",
   "execution_count": 4,
   "metadata": {},
   "outputs": [],
   "source": [
    "# 3. 몫 구하기 https://school.programmers.co.kr/learn/courses/30/lessons/120805\n",
    "def solution(num1, num2):\n",
    "    return num1 // num2"
   ]
  },
  {
   "cell_type": "code",
   "execution_count": 5,
   "metadata": {},
   "outputs": [],
   "source": [
    "# 4. 숫자 비교하기 https://school.programmers.co.kr/learn/courses/30/lessons/120807\n",
    "def solution(num1, num2):\n",
    "    if num1==num2:\n",
    "        return 1\n",
    "    else:\n",
    "        return -1"
   ]
  },
  {
   "cell_type": "code",
   "execution_count": 6,
   "metadata": {},
   "outputs": [],
   "source": [
    "# 5. 나머지 구하기 https://school.programmers.co.kr/learn/courses/30/lessons/120810\n",
    "def solution(num1, num2):\n",
    "    return num1 % num2"
   ]
  },
  {
   "cell_type": "code",
   "execution_count": 7,
   "metadata": {},
   "outputs": [],
   "source": [
    "# 6. 나이 출력 https://school.programmers.co.kr/learn/courses/30/lessons/120820\n",
    "def solution(age):\n",
    "    return 2022-age+1"
   ]
  },
  {
   "cell_type": "code",
   "execution_count": 8,
   "metadata": {},
   "outputs": [],
   "source": [
    "# 7. 두 수의 합 https://school.programmers.co.kr/learn/courses/30/lessons/120802\n",
    "def solution(num1, num2):\n",
    "    return num1 + num2"
   ]
  },
  {
   "cell_type": "code",
   "execution_count": 9,
   "metadata": {},
   "outputs": [],
   "source": [
    "# 8. 각도기 https://school.programmers.co.kr/learn/courses/30/lessons/120829\n",
    "def solution(angle):\n",
    "    if angle == 90:\n",
    "        return 2\n",
    "    elif angle == 180:\n",
    "        return 4\n",
    "    elif (angle>0)&(angle<90):\n",
    "        return 1\n",
    "    else:\n",
    "        return 3\n",
    "    return answer"
   ]
  },
  {
   "cell_type": "code",
   "execution_count": 10,
   "metadata": {},
   "outputs": [],
   "source": [
    "# 9. 두 수의 나눗셈 https://school.programmers.co.kr/learn/courses/30/lessons/120806\n",
    "def solution(num1, num2):\n",
    "    return int((num1 / num2)*1000)"
   ]
  },
  {
   "cell_type": "code",
   "execution_count": 11,
   "metadata": {},
   "outputs": [],
   "source": [
    "# 10. 짝수의 합 https://school.programmers.co.kr/learn/courses/30/lessons/120831\n",
    "def solution(n):\n",
    "    return sum(range(0, n+1, 2))"
   ]
  },
  {
   "cell_type": "code",
   "execution_count": 12,
   "metadata": {},
   "outputs": [],
   "source": [
    "# 11. 양꼬치 https://school.programmers.co.kr/learn/courses/30/lessons/120830\n",
    "# 팀원 코드에서 k-n으로 합치면 더 깔끔하고 한 번에 계산할 수 있다.\n",
    "# def solution(n, k):\n",
    "#     return (n*12000)+((k-n//10)*2000)\n",
    "def solution(n, k):\n",
    "    return (n*12000)+(k*2000)-(n//10*2000)"
   ]
  },
  {
   "cell_type": "code",
   "execution_count": 13,
   "metadata": {},
   "outputs": [],
   "source": [
    "# 12. 배열의 평균값 https://school.programmers.co.kr/learn/courses/30/lessons/120817\n",
    "def solution(numbers):\n",
    "    return sum(numbers)/len(numbers)"
   ]
  },
  {
   "cell_type": "code",
   "execution_count": 14,
   "metadata": {},
   "outputs": [],
   "source": [
    "# 13. 머쓱이보다 키 큰 사람\n",
    "# i>height 해서 해당하는 것을 한개씩 카운트 해준다. answer=answer+1\n",
    "def solution(array, height):\n",
    "    answer=0\n",
    "    for i in array:\n",
    "        if i>height:\n",
    "            answer = answer+1\n",
    "    return answer\n",
    "\n",
    "# 컴프리헨션(중복된 숫자 개수 문제와 비슷)\n",
    "# def solution(array, height):\n",
    "#     return len([i for i in array if i>height])"
   ]
  },
  {
   "cell_type": "code",
   "execution_count": 15,
   "metadata": {},
   "outputs": [],
   "source": [
    "# 14. 중복된 숫자 개수 https://school.programmers.co.kr/learn/courses/30/lessons/120583\n",
    "# 한줄 코드 : array.count(n)\n",
    "def solution(array, n):\n",
    "    answer=0\n",
    "    for i in array:\n",
    "        if i == n:\n",
    "            answer +=1\n",
    "    return answer\n",
    "\n",
    "# 컴프리헨션(머쓱이보다 키 큰 사람 문제와 비슷)\n",
    "# def solution(array, n):\n",
    "#     return len([i for i in array if i==n])\n",
    "\n",
    "# lambda input : 조건, 범위\n",
    "# map(function, iterable) : iterable한 모든 항목에 함수를 적용\n",
    "# iterable : 반복 가능하다는 뜻\n",
    "# map, lambda, 컴프리헨션 예시가 들어 있는 블로그 : https://blog.naver.com/therich21/222788398526\n",
    "# def solution(array, n):\n",
    "#     return sum(map(lambda i:i>height, array))"
   ]
  },
  {
   "cell_type": "code",
   "execution_count": null,
   "metadata": {},
   "outputs": [],
   "source": [
    "# 15. 배열 뒤집기 https://school.programmers.co.kr/learn/courses/30/lessons/120821\n",
    "def solution(num_list):      \n",
    "    return num_list[::-1]"
   ]
  },
  {
   "cell_type": "code",
   "execution_count": null,
   "metadata": {},
   "outputs": [],
   "source": [
    "# 16. 피자 나눠 먹기(1) https://school.programmers.co.kr/learn/courses/30/lessons/120814\n",
    "# 나머지가 0인, 7 조각으로 나눴을 때 딱 떨어지는 숫자라면,\n",
    "# n을 7로 나눈 몫을 출력하도록 하고,\n",
    "# 딱 떨어지지 않는다면 피자 1판을 추가하고, n을 7로 나눈 몫을 출력한다.\n",
    "def solution(n):\n",
    "    if n%7==0:\n",
    "        return n//7\n",
    "    else:\n",
    "        return n//7 + 1"
   ]
  },
  {
   "cell_type": "code",
   "execution_count": null,
   "metadata": {},
   "outputs": [],
   "source": [
    "# 17. 문자열 뒤집기 https://school.programmers.co.kr/learn/courses/30/lessons/120822\n",
    "# list로 바꾼 다음에, 배열을 뒤집어 준다.\n",
    "# \"n\", \"o\", \"r\", \"a\", \"j\"로 출력되는 것을 noraj로 합치기 위해서 join을 사용한다.\n",
    "def solution(my_string):\n",
    "    answer = list(my_string)\n",
    "    return \"\".join(answer[::-1])\n",
    "\n",
    "# return my_string[::-1]"
   ]
  },
  {
   "cell_type": "code",
   "execution_count": null,
   "metadata": {},
   "outputs": [],
   "source": [
    "# 18. 피자 나눠 먹기(3) https://school.programmers.co.kr/learn/courses/30/lessons/120816\n",
    "# 23/04/04\n",
    "def solution(slice, n):\n",
    "    # 인원수를 조각수로 나누었을 때, 딱 떨어지지 않는다면 한 판을 추가해준다.\n",
    "    if n%slice > 0:\n",
    "        return n//slice +1\n",
    "    # 인원수를 조각수로 나누었을 때, 딱 떨어진다면, 나눈 만큼 피자를 주문하면 된다.\n",
    "    else:\n",
    "        return n//slice"
   ]
  },
  {
   "cell_type": "code",
   "execution_count": null,
   "metadata": {},
   "outputs": [],
   "source": [
    "# 19. 짝수는 싫어요 https://school.programmers.co.kr/learn/courses/30/lessons/120813\n",
    "# 23/04/05\n",
    "def solution(n):\n",
    "    answer = []\n",
    "    for i in range(1, n+1):\n",
    "        # i를 2로 나누었을 때 0이라면 짝수\n",
    "        # i를 2로 나누었을 때 0이 아니라면 홀수이기 때문에 answer 배열에 추가\n",
    "        if i%2 != 0:\n",
    "            answer.append(i)\n",
    "    return answer"
   ]
  },
  {
   "cell_type": "code",
   "execution_count": null,
   "metadata": {},
   "outputs": [],
   "source": [
    "# 20. 점의 위치 구하기 https://school.programmers.co.kr/learn/courses/30/lessons/120841\n",
    "# 23/04/06\n",
    "def solution(dot):\n",
    "    if dot[0]>=0 and dot[1]>=0:\n",
    "        return 1\n",
    "    elif dot[0]>=0 and dot[1]<0:\n",
    "        return 4\n",
    "    elif dot[0]<0 and dot[1]>=0:\n",
    "        return 2\n",
    "    else:\n",
    "        return 3"
   ]
  },
  {
   "cell_type": "code",
   "execution_count": null,
   "metadata": {},
   "outputs": [],
   "source": [
    "# 23/04/06, answer을 사용하는 방법.\n",
    "# 괄호를 넣으면 더 깔끔한가?\n",
    "# 0인 값의 경우는 고려 안해도 되는 것 같다.\n",
    "# def solution(dot):\n",
    "#     if (dot[0]>=0 and dot[1]>=0):\n",
    "#         answer=1\n",
    "#     elif (dot[0]>=0 and dot[1]<0):\n",
    "#         answer=4\n",
    "#     elif (dot[0]<0 and dot[1]>=0):\n",
    "#         answer=2\n",
    "#     else:\n",
    "#         answer=3\n",
    "#     return answer"
   ]
  },
  {
   "cell_type": "code",
   "execution_count": null,
   "metadata": {},
   "outputs": [],
   "source": [
    "# 21. 짝수 홀수 개수 https://school.programmers.co.kr/learn/courses/30/lessons/120824\n",
    "# 23/04/07\n",
    "# 짝수이면 answer1 리스트에, 홀수이면 answer2 리스트에 넣고\n",
    "# answer 리스트는 [짝수 리스트의 개수, 홀수 리스트의 갯수] 로 구성되게 함\n",
    "# 리스트를 세 개나 생성하는 것 말고 깔끔한 방법도 있을 것 같은데\n",
    "# => a, b 리스트를 만들어서 [len(a), len(b)]하는 방법\n",
    "# => answer = [0, 0] 에서 answer[0]과 answer[1]에 더해나가는 방법\n",
    "def solution(num_list):\n",
    "    answer = []\n",
    "    answer1 = []\n",
    "    answer2 = []\n",
    "    for i in num_list:\n",
    "        if i % 2 == 0:\n",
    "            answer1.append(i)\n",
    "        else:\n",
    "            answer2.append(i)\n",
    "        answer = [len(answer1), len(answer2)]\n",
    "    return answer"
   ]
  },
  {
   "cell_type": "code",
   "execution_count": null,
   "metadata": {},
   "outputs": [],
   "source": [
    "# 22. 배열 자르기 https://school.programmers.co.kr/learn/courses/30/lessons/120833\n",
    "# 23/04/08\n",
    "# 간단하게 return 값을 return numbers[num1:num2+1]해도 된다.\n",
    "def solution(numbers, num1, num2):\n",
    "    answer = []\n",
    "    answer = numbers[num1:num2+1]\n",
    "    return answer"
   ]
  },
  {
   "cell_type": "code",
   "execution_count": null,
   "metadata": {},
   "outputs": [],
   "source": [
    "# 23. 배열 원소의 길이 https://school.programmers.co.kr/learn/courses/30/lessons/120854\n",
    "# 23/04/09\n",
    "# i가 strlist에 있다면, i의 길이를 len(i)로 구해서 answer list에 추가\n",
    "def solution(strlist):\n",
    "    answer = []\n",
    "    for i in strlist:\n",
    "        answer.append(len(i))\n",
    "    return answer"
   ]
  },
  {
   "cell_type": "code",
   "execution_count": null,
   "metadata": {},
   "outputs": [],
   "source": [
    "# 23. 우수 풀이 참고\n",
    "# 공부 reference https://dojang.io/mod/page/view.php?id=2286\n",
    "# list(map(함수, 리스트))\n",
    "def solution(strlist):\n",
    "    answer = list(map(len, strlist))\n",
    "    return answer"
   ]
  },
  {
   "cell_type": "code",
   "execution_count": null,
   "metadata": {},
   "outputs": [],
   "source": [
    "# 리스트 컴프리헨션 공부\n",
    "def solution(strlist):\n",
    "    return [len(i) for i in strlist]"
   ]
  },
  {
   "cell_type": "code",
   "execution_count": null,
   "metadata": {},
   "outputs": [],
   "source": [
    "# 24. 옷가게 할인 받기 https://school.programmers.co.kr/learn/courses/30/lessons/120818\n",
    "# 23/04/10\n",
    "# return을 answer로 하고 싶으면, if문 실행 전에 answer=price 설정 필요\n",
    "# 아니라면, return을 price로 하고, if문 출력값을 price=으로 설정\n",
    "# answer로 return을 하고, if문 실행 전에 설정하지 않았으면 else로 그 외 경우에는 어떻게 할 지 설정 필요\n",
    "def solution(price):\n",
    "    if price>=500000:\n",
    "        answer = price * 0.80\n",
    "    elif price>=300000:\n",
    "        answer = price * 0.90\n",
    "    elif price>=100000:\n",
    "        answer = price * 0.95\n",
    "    else\n",
    "        answer = price\n",
    "    return int(answer)"
   ]
  },
  {
   "cell_type": "code",
   "execution_count": null,
   "metadata": {},
   "outputs": [],
   "source": [
    "# 25. 중앙값 구하기 https://school.programmers.co.kr/learn/courses/30/lessons/120811\n",
    "# 23/04/11 ~23/04/13\n",
    "# array.sort() 를 변수에 담을 필요 없다.\n",
    "def solution(array):\n",
    "    array.sort()\n",
    "    answer = len(array)//2\n",
    "    return array[answer]"
   ]
  },
  {
   "cell_type": "code",
   "execution_count": null,
   "metadata": {},
   "outputs": [],
   "source": [
    "# 26. 최댓값 만들기(1) https://school.programmers.co.kr/learn/courses/30/lessons/120847\n",
    "# 23/04/14\n",
    "def solution(numbers):\n",
    "    numbers.sort(reverse=True)\n",
    "    answer=numbers[0]*numbers[1]\n",
    "    return answer"
   ]
  },
  {
   "cell_type": "code",
   "execution_count": null,
   "metadata": {},
   "outputs": [],
   "source": [
    "# for문으로 numbers 배열을 돌면서,\n",
    "# 곱된 모든 경우를 구하고 그 중에서 제일 큰 값을 출력하게는 못하나?\n",
    "\n",
    "# 첫 번째 방법\n",
    "# => from itertools import permutations\n",
    "# permutations(numbers, 2)"
   ]
  },
  {
   "cell_type": "code",
   "execution_count": null,
   "metadata": {},
   "outputs": [],
   "source": [
    "# 27. 아이스아메리카노 https://school.programmers.co.kr/learn/courses/30/lessons/120819\n",
    "# 23/04/15\n",
    "# 남은 돈은 money % 5500 해도 가능\n",
    "def solution(money):\n",
    "    a = money // 5500\n",
    "    b = money - (5500*a)\n",
    "    return [a, b]"
   ]
  },
  {
   "cell_type": "code",
   "execution_count": null,
   "metadata": {},
   "outputs": [],
   "source": [
    "# 28. 배열 두 배 만들기 https://school.programmers.co.kr/learn/courses/30/lessons/120809\n",
    "# 23/04/18\n",
    "def solution(numbers):\n",
    "    answer = []\n",
    "    for i in numbers:\n",
    "        i = i*2\n",
    "        answer.append(i)\n",
    "    return answer\n"
   ]
  },
  {
   "cell_type": "code",
   "execution_count": 41,
   "metadata": {},
   "outputs": [],
   "source": [
    "# 29. 문자 반복 출력하기 https://school.programmers.co.kr/learn/courses/30/lessons/120825\n",
    "# 23/04/19\n",
    "# 조금 헷갈림\n",
    "def solution(my_string, n):\n",
    "    answer=''\n",
    "    for i in my_string:\n",
    "        answer+=i*n\n",
    "    return answer"
   ]
  },
  {
   "cell_type": "code",
   "execution_count": null,
   "metadata": {},
   "outputs": [],
   "source": [
    "# 30. 삼각형의 완성조건(1)\n",
    "# 23/04/20\n",
    "# 다른 사람 풀이 : max()를 활용해볼 것\n",
    "# 삼각형은 3개의 변 밖에 없으니 [0], [1], [2]로만 지정 가능\n",
    "def solution(sides):\n",
    "    # 삼각형의 변이 담긴 sides 리스트를 큰 수 순(reverse=True)로 정렬\n",
    "    sides.sort(reverse=True)\n",
    "    # 제일 큰 변(sides[0])이 나머지의 합보다 크거나 같으면 2를 반환\n",
    "    if sides[0]>sum(sides[1:]):\n",
    "        return 2\n",
    "    elif sides[0]==sum(sides[1:]):\n",
    "        return 2\n",
    "    else:\n",
    "        return 1"
   ]
  },
  {
   "cell_type": "code",
   "execution_count": 10,
   "metadata": {},
   "outputs": [],
   "source": [
    "# 31. 모음 제거 https://school.programmers.co.kr/learn/courses/30/lessons/120849\n",
    "# 23/04/21\n",
    "# my_string = \"nice to meet you\" 를 list(my_string)화 함\n",
    "# for문 사용, i가 ['nice', 'to', 'meet', 'you']안에 있다면,\n",
    "# list(i)에 모음이 있다면,\n",
    "# append 하는 식으로 하면 안되려나?\n",
    "# => 위 방법까지 갈 필요가 없음. not in 을 사용하면 됨\n",
    "# => my_string을 list화 할 필요 없음\n",
    "# => re.sub('[aeiou]', \"\", my_string)을 사용해도됨\n",
    "def solution(my_string):\n",
    "    answer=''\n",
    "    vowel = ['a', 'e', 'i', 'o', 'u']\n",
    "    new_string = []\n",
    "    for i in my_string:\n",
    "        if i not in vowel:\n",
    "            new_string.append(i)\n",
    "    answer = ''.join(new_string)\n",
    "    return answer"
   ]
  },
  {
   "cell_type": "code",
   "execution_count": 14,
   "metadata": {},
   "outputs": [
    {
     "name": "stdout",
     "output_type": "stream",
     "text": [
      "['n', 'c', ' ', 't', ' ', 'm', 't', ' ', 'y']\n"
     ]
    },
    {
     "data": {
      "text/plain": [
       "'nc t mt y'"
      ]
     },
     "execution_count": 14,
     "metadata": {},
     "output_type": "execute_result"
    }
   ],
   "source": [
    "new_string = []\n",
    "my_string = 'nice to meet you'\n",
    "vowel = ['a', 'e', 'i', 'o', 'u']\n",
    "for i in my_string:\n",
    "    if i not in vowel:\n",
    "        new_string.append(i)\n",
    "print(new_string)\n",
    "# join은 ''을 구분자로 다 합치는구나\n",
    "# \" \".join하면 공백을 넣어서 join함\n",
    "''.join(new_string)"
   ]
  },
  {
   "cell_type": "code",
   "execution_count": null,
   "metadata": {},
   "outputs": [],
   "source": [
    "# 32. 순서쌍의 개수 https://school.programmers.co.kr/learn/courses/30/lessons/120836\n",
    "# 23/04/22\n",
    "def solution(n):\n",
    "    answer = 0\n",
    "    for i in range(1, n+1):\n",
    "        if n % i == 0:\n",
    "            answer += 1\n",
    "    return answer"
   ]
  },
  {
   "cell_type": "code",
   "execution_count": null,
   "metadata": {},
   "outputs": [],
   "source": [
    "# 33. 편지 https://school.programmers.co.kr/learn/courses/30/lessons/120898\n",
    "# 23/04/24\n",
    "def solution(message):\n",
    "    return len(message)*2"
   ]
  },
  {
   "cell_type": "code",
   "execution_count": null,
   "metadata": {},
   "outputs": [],
   "source": [
    "# 34. 배열의 유사도 https://school.programmers.co.kr/learn/courses/30/lessons/120903\n",
    "# 23/04/24\n",
    "# 반복문으로 i가 s1을, j가 s2를 돌 때,\n",
    "# i와 j가 같다면(i==j), answer라는 빈 배열에 추가\n",
    "# 같은 값을 출력하는게 아니고, 같은 것이 몇 개인지 출력이므로 len(answer)로 return\n",
    "# set() 활용 가능\n",
    "# i가 s1에 있고, 만약 s2에도 있다면, +=1 해주는 방법\n",
    "def solution(s1, s2):\n",
    "    answer = []\n",
    "    for i in s1:\n",
    "        for j in s2:\n",
    "            if i == j:\n",
    "                answer.append(i)\n",
    "    return len(answer)"
   ]
  },
  {
   "cell_type": "code",
   "execution_count": null,
   "metadata": {},
   "outputs": [],
   "source": [
    "# 35. 자릿수 더하기\n",
    "# 23/04/25\n",
    "# n을 문자열로 바꿔써(str(n)) 길이를 구한 후, 인덱싱한 문자들을 int로 다시 바꾼 후, 더해준다.\n",
    "# map()을 활용하면 for문을 사용할 필요가 없다.\n",
    "\n",
    "def solution(n):\n",
    "    answer = 0\n",
    "    str_n = str(n)\n",
    "    for i in range(len(str_n)):\n",
    "        answer += int(str_n[i])\n",
    "    return answer"
   ]
  },
  {
   "cell_type": "code",
   "execution_count": 32,
   "metadata": {},
   "outputs": [
    {
     "data": {
      "text/plain": [
       "10"
      ]
     },
     "execution_count": 32,
     "metadata": {},
     "output_type": "execute_result"
    }
   ],
   "source": [
    "n=1234\n",
    "a = map(int, str(n))\n",
    "sum(a)"
   ]
  },
  {
   "cell_type": "code",
   "execution_count": 33,
   "metadata": {},
   "outputs": [
    {
     "data": {
      "text/plain": [
       "10"
      ]
     },
     "execution_count": 33,
     "metadata": {},
     "output_type": "execute_result"
    }
   ],
   "source": [
    "# 그냥 이렇게 해도 풀이가 되는데\n",
    "# sum(list(map(int, str(n))))으로 들어가는 이유가 뭘까?\n",
    "n = 1234\n",
    "sum(map(int, str(n)))"
   ]
  },
  {
   "cell_type": "code",
   "execution_count": 4,
   "metadata": {},
   "outputs": [],
   "source": [
    "# 36. 개미 군단\n",
    "# 23/04/26\n",
    "# divmod(a, b) : a를 b로 나눈 몫과 나머지를 반환\n",
    "# 몫을 a, 나머지를 hp에 저장\n",
    "# answer에는 몫을 더해주는 것\n",
    "def solution(hp):\n",
    "    answer = 0\n",
    "    for x in [5, 3, 1]:\n",
    "        a, hp = divmod(hp, x)\n",
    "        answer += a \n",
    "    return answer"
   ]
  },
  {
   "cell_type": "code",
   "execution_count": null,
   "metadata": {},
   "outputs": [],
   "source": [
    "def solution(hp):\n",
    "    return (hp//5) + ((hp%5)//3) + ((hp%5)%3)"
   ]
  },
  {
   "cell_type": "code",
   "execution_count": null,
   "metadata": {},
   "outputs": [],
   "source": [
    "# 37. 제곱수 판별하기\n",
    "# 23/04/27\n",
    "def solution(n):\n",
    "    a = n**(1/2)\n",
    "    # int() 를 하지 않으면 에러가 나는 케이스가 있음.\n",
    "    if int(a)*int(a) == n:\n",
    "        return 1\n",
    "    else:\n",
    "        return 2"
   ]
  },
  {
   "cell_type": "code",
   "execution_count": null,
   "metadata": {},
   "outputs": [],
   "source": [
    "# 처음 생각한 방법\n",
    "def solution(n):\n",
    "    for i in range(1,n):\n",
    "        if n == i * i:\n",
    "            return 1\n",
    "    return 2"
   ]
  },
  {
   "cell_type": "code",
   "execution_count": null,
   "metadata": {},
   "outputs": [],
   "source": [
    "# 38. 암호 해독\n",
    "# 23/05/01\n",
    "# range(start, stop, step)\n",
    "# cipher[code-1::code]\n",
    "def solution(cipher, code):\n",
    "    answer = ''\n",
    "    for i in range(code-1, len(cipher), code):\n",
    "        answer += cipher[i]\n",
    "    return answer"
   ]
  },
  {
   "cell_type": "code",
   "execution_count": 14,
   "metadata": {},
   "outputs": [],
   "source": [
    "# 39. 가위 바위 보\n",
    "# 23/05/02\n",
    "# for i in rsp: 부분은 list(rsp)로 두거나 range(len(rsp))로 뒀었음.\n",
    "# list로 변경하면 str 형태로 인식이 되기 때문에 제대로 답이 나오지 않음.\n",
    "# in 뒤에 들어오는 형태에 따라서 어떻게 반복문이 돌아가는지 깨닫는게 부족했음.\n",
    "# ''.join(answer)를 활용하고 싶다면 우수 답안을 참고\n",
    "def solution(rsp):\n",
    "    answer=''\n",
    "    for i in rsp:\n",
    "        if i == \"0\":\n",
    "            answer += \"5\"\n",
    "        elif i == \"2\":\n",
    "            answer += \"0\"\n",
    "        elif i == \"5\":\n",
    "            answer += \"2\"\n",
    "    return answer"
   ]
  },
  {
   "cell_type": "code",
   "execution_count": null,
   "metadata": {},
   "outputs": [],
   "source": [
    "# 좋아요 많이 받은 풀이\n",
    "def solution(rsp):\n",
    "    d = {\"0\":\"5\", \"2\":\"0\", \"5\":\"2\"}\n",
    "    return ''.join(d[i] for i in rsp)"
   ]
  },
  {
   "cell_type": "code",
   "execution_count": null,
   "metadata": {},
   "outputs": [],
   "source": [
    "# 40. 세균 증식\n",
    "# 23/05/03\n",
    "# 처음 시작은 answer=0 이니까 1시간일 때는 n*2를 answer에 넣어줌\n",
    "# 그 다음 2시간~t시간까지는 answer 값에 두 배를 해준 값을 answer로 설정\n",
    "def solution(n, t):\n",
    "    answer = 0\n",
    "    for i in range(1, t+1):\n",
    "        if i == 1:\n",
    "            answer = n*2\n",
    "        else:\n",
    "            answer = answer*2\n",
    "    return answer"
   ]
  },
  {
   "cell_type": "code",
   "execution_count": null,
   "metadata": {},
   "outputs": [],
   "source": [
    "# 그냥 range(t)해도 가능\n",
    "# 다른 방법으로는 n*(2**t)\n",
    "def solution(n, t):\n",
    "    answer = 0\n",
    "    for i in range(t):\n",
    "        n *= 2\n",
    "    return n"
   ]
  },
  {
   "cell_type": "code",
   "execution_count": null,
   "metadata": {},
   "outputs": [],
   "source": [
    "# 좋아요 많이 받은 풀이\n",
    "# 재귀, 비트 연산 공부\n",
    "def solution(n, t):\n",
    "    return n << t"
   ]
  },
  {
   "cell_type": "code",
   "execution_count": null,
   "metadata": {},
   "outputs": [],
   "source": [
    "# 41. 대문자와 소문자\n",
    "# 230508\n",
    "# 처음에 대문자 리스트와 소문자 리스트를 따로 만들어서 결과값을 append해주고\n",
    "# 리스트를 join 후 각 리스트를 + 더해줬다.\n",
    "# 그렇게 되면 순서가 입력값 순서대로 출력이 되지 않는다.\n",
    "# 그래서 answerlist라는 하나의 리스트를 만들어서 append 해주었다.\n",
    "def solution(my_string):\n",
    "    answer = ''\n",
    "    answerlist = []\n",
    "    for i in my_string:\n",
    "        if i.isupper() == True:\n",
    "            answerlist.append(i.lower())\n",
    "        elif i.islower() == True:\n",
    "            answerlist.append(i.upper())\n",
    "        answer = ''.join(answerlist)\n",
    "    return answer"
   ]
  },
  {
   "cell_type": "code",
   "execution_count": null,
   "metadata": {},
   "outputs": [],
   "source": [
    "# isupper(), islower()를 사용할거면\n",
    "# 리스트를 생성하지 않고 그대로 answer += i.lower()식으로 추가해도 되는구나\n",
    "# if 문에서 isupper()가 True라면, 이라고 설정을 안해줘도 된다.\n",
    "def solution(my_string):\n",
    "    answer = ''\n",
    "    for i in my_string:\n",
    "        if i.isupper():\n",
    "            answer += i.lower()\n",
    "        elif i.islower():\n",
    "            answer += i.upper()\n",
    "    return answer"
   ]
  }
 ],
 "metadata": {
  "kernelspec": {
   "display_name": "Python 3.9.13 ('base')",
   "language": "python",
   "name": "python3"
  },
  "language_info": {
   "codemirror_mode": {
    "name": "ipython",
    "version": 3
   },
   "file_extension": ".py",
   "mimetype": "text/x-python",
   "name": "python",
   "nbconvert_exporter": "python",
   "pygments_lexer": "ipython3",
   "version": "3.9.13"
  },
  "orig_nbformat": 4,
  "vscode": {
   "interpreter": {
    "hash": "f08154012ddadd8e950e6e9e035c7a7b32c136e7647e9b7c77e02eb723a8bedb"
   }
  }
 },
 "nbformat": 4,
 "nbformat_minor": 2
}
