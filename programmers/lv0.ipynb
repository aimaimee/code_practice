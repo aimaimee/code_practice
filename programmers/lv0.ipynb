{
 "cells": [
  {
   "cell_type": "markdown",
   "metadata": {},
   "source": [
    "## 프로그래머스 Lv0"
   ]
  },
  {
   "cell_type": "code",
   "execution_count": 2,
   "metadata": {},
   "outputs": [],
   "source": [
    "# 1. 두 수의 차\n",
    "def solution(num1, num2):\n",
    "    return num1 - num2"
   ]
  },
  {
   "cell_type": "code",
   "execution_count": 3,
   "metadata": {},
   "outputs": [],
   "source": [
    "# 2. 두 수의 곱\n",
    "def solution(num1, num2):\n",
    "    return num1*num2"
   ]
  },
  {
   "cell_type": "code",
   "execution_count": 4,
   "metadata": {},
   "outputs": [],
   "source": [
    "# 3. 몫 구하기 https://school.programmers.co.kr/learn/courses/30/lessons/120805\n",
    "def solution(num1, num2):\n",
    "    return num1 // num2"
   ]
  },
  {
   "cell_type": "code",
   "execution_count": 5,
   "metadata": {},
   "outputs": [],
   "source": [
    "# 4. 숫자 비교하기 https://school.programmers.co.kr/learn/courses/30/lessons/120807\n",
    "def solution(num1, num2):\n",
    "    if num1==num2:\n",
    "        return 1\n",
    "    else:\n",
    "        return -1"
   ]
  },
  {
   "cell_type": "code",
   "execution_count": 6,
   "metadata": {},
   "outputs": [],
   "source": [
    "# 5. 나머지 구하기 https://school.programmers.co.kr/learn/courses/30/lessons/120810\n",
    "def solution(num1, num2):\n",
    "    return num1 % num2"
   ]
  },
  {
   "cell_type": "code",
   "execution_count": 7,
   "metadata": {},
   "outputs": [],
   "source": [
    "# 6. 나이 출력 https://school.programmers.co.kr/learn/courses/30/lessons/120820\n",
    "def solution(age):\n",
    "    return 2022-age+1"
   ]
  },
  {
   "cell_type": "code",
   "execution_count": 8,
   "metadata": {},
   "outputs": [],
   "source": [
    "# 7. 두 수의 합 https://school.programmers.co.kr/learn/courses/30/lessons/120802\n",
    "def solution(num1, num2):\n",
    "    return num1 + num2"
   ]
  },
  {
   "cell_type": "code",
   "execution_count": 9,
   "metadata": {},
   "outputs": [],
   "source": [
    "# 8. 각도기 https://school.programmers.co.kr/learn/courses/30/lessons/120829\n",
    "def solution(angle):\n",
    "    if angle == 90:\n",
    "        return 2\n",
    "    elif angle == 180:\n",
    "        return 4\n",
    "    elif (angle>0)&(angle<90):\n",
    "        return 1\n",
    "    else:\n",
    "        return 3\n",
    "    return answer"
   ]
  },
  {
   "cell_type": "code",
   "execution_count": 10,
   "metadata": {},
   "outputs": [],
   "source": [
    "# 9. 두 수의 나눗셈 https://school.programmers.co.kr/learn/courses/30/lessons/120806\n",
    "def solution(num1, num2):\n",
    "    return int((num1 / num2)*1000)"
   ]
  },
  {
   "cell_type": "code",
   "execution_count": 11,
   "metadata": {},
   "outputs": [],
   "source": [
    "# 10. 짝수의 합 https://school.programmers.co.kr/learn/courses/30/lessons/120831\n",
    "def solution(n):\n",
    "    return sum(range(0, n+1, 2))"
   ]
  },
  {
   "cell_type": "code",
   "execution_count": 12,
   "metadata": {},
   "outputs": [],
   "source": [
    "# 11. 양꼬치 https://school.programmers.co.kr/learn/courses/30/lessons/120830\n",
    "# 팀원 코드에서 k-n으로 합치면 더 깔끔하고 한 번에 계산할 수 있다.\n",
    "# def solution(n, k):\n",
    "#     return (n*12000)+((k-n//10)*2000)\n",
    "def solution(n, k):\n",
    "    return (n*12000)+(k*2000)-(n//10*2000)"
   ]
  },
  {
   "cell_type": "code",
   "execution_count": 13,
   "metadata": {},
   "outputs": [],
   "source": [
    "# 12. 배열의 평균값 https://school.programmers.co.kr/learn/courses/30/lessons/120817\n",
    "def solution(numbers):\n",
    "    return sum(numbers)/len(numbers)"
   ]
  },
  {
   "cell_type": "code",
   "execution_count": 14,
   "metadata": {},
   "outputs": [],
   "source": [
    "# 13. 머쓱이보다 키 큰 사람\n",
    "# i>height 해서 해당하는 것을 한개씩 카운트 해준다. answer=answer+1\n",
    "def solution(array, height):\n",
    "    answer=0\n",
    "    for i in array:\n",
    "        if i>height:\n",
    "            answer = answer+1\n",
    "    return answer\n",
    "\n",
    "# 컴프리헨션(중복된 숫자 개수 문제와 비슷)\n",
    "# def solution(array, height):\n",
    "#     return len([i for i in array if i>height])"
   ]
  },
  {
   "cell_type": "code",
   "execution_count": 15,
   "metadata": {},
   "outputs": [],
   "source": [
    "# 14. 중복된 숫자 개수 https://school.programmers.co.kr/learn/courses/30/lessons/120583\n",
    "# 한줄 코드 : array.count(n)\n",
    "def solution(array, n):\n",
    "    answer=0\n",
    "    for i in array:\n",
    "        if i == n:\n",
    "            answer +=1\n",
    "    return answer\n",
    "\n",
    "# 컴프리헨션(머쓱이보다 키 큰 사람 문제와 비슷)\n",
    "# def solution(array, n):\n",
    "#     return len([i for i in array if i==n])\n",
    "\n",
    "# lambda input : 조건, 범위\n",
    "# map(function, iterable) : iterable한 모든 항목에 함수를 적용\n",
    "# iterable : 반복 가능하다는 뜻\n",
    "# map, lambda, 컴프리헨션 예시가 들어 있는 블로그 : https://blog.naver.com/therich21/222788398526\n",
    "# def solution(array, n):\n",
    "#     return sum(map(lambda i:i>height, array))"
   ]
  },
  {
   "cell_type": "code",
   "execution_count": null,
   "metadata": {},
   "outputs": [],
   "source": [
    "# 15. 배열 뒤집기 https://school.programmers.co.kr/learn/courses/30/lessons/120821\n",
    "def solution(num_list):      \n",
    "    return num_list[::-1]"
   ]
  },
  {
   "cell_type": "code",
   "execution_count": null,
   "metadata": {},
   "outputs": [],
   "source": [
    "# 16. 피자 나눠 먹기(1) https://school.programmers.co.kr/learn/courses/30/lessons/120814\n",
    "# 나머지가 0인, 7 조각으로 나눴을 때 딱 떨어지는 숫자라면,\n",
    "# n을 7로 나눈 몫을 출력하도록 하고,\n",
    "# 딱 떨어지지 않는다면 피자 1판을 추가하고, n을 7로 나눈 몫을 출력한다.\n",
    "def solution(n):\n",
    "    if n%7==0:\n",
    "        return n//7\n",
    "    else:\n",
    "        return n//7 + 1"
   ]
  },
  {
   "cell_type": "code",
   "execution_count": null,
   "metadata": {},
   "outputs": [],
   "source": [
    "# 17. 문자열 뒤집기 https://school.programmers.co.kr/learn/courses/30/lessons/120822\n",
    "# list로 바꾼 다음에, 배열을 뒤집어 준다.\n",
    "# \"n\", \"o\", \"r\", \"a\", \"j\"로 출력되는 것을 noraj로 합치기 위해서 join을 사용한다.\n",
    "def solution(my_string):\n",
    "    answer = list(my_string)\n",
    "    return \"\".join(answer[::-1])\n",
    "\n",
    "# return my_string[::-1]"
   ]
  },
  {
   "cell_type": "code",
   "execution_count": null,
   "metadata": {},
   "outputs": [],
   "source": [
    "# 18. 피자 나눠 먹기(3) https://school.programmers.co.kr/learn/courses/30/lessons/120816\n",
    "# 23/04/04\n",
    "def solution(slice, n):\n",
    "    # 인원수를 조각수로 나누었을 때, 딱 떨어지지 않는다면 한 판을 추가해준다.\n",
    "    if n%slice > 0:\n",
    "        return n//slice +1\n",
    "    # 인원수를 조각수로 나누었을 때, 딱 떨어진다면, 나눈 만큼 피자를 주문하면 된다.\n",
    "    else:\n",
    "        return n//slice"
   ]
  },
  {
   "cell_type": "code",
   "execution_count": null,
   "metadata": {},
   "outputs": [],
   "source": [
    "# 19. 짝수는 싫어요 https://school.programmers.co.kr/learn/courses/30/lessons/120813\n",
    "# 23/04/05\n",
    "def solution(n):\n",
    "    answer = []\n",
    "    for i in range(1, n+1):\n",
    "        # i를 2로 나누었을 때 0이라면 짝수\n",
    "        # i를 2로 나누었을 때 0이 아니라면 홀수이기 때문에 answer 배열에 추가\n",
    "        if i%2 != 0:\n",
    "            answer.append(i)\n",
    "    return answer"
   ]
  }
 ],
 "metadata": {
  "kernelspec": {
   "display_name": "Python 3.9.13 ('base')",
   "language": "python",
   "name": "python3"
  },
  "language_info": {
   "codemirror_mode": {
    "name": "ipython",
    "version": 3
   },
   "file_extension": ".py",
   "mimetype": "text/x-python",
   "name": "python",
   "nbconvert_exporter": "python",
   "pygments_lexer": "ipython3",
   "version": "3.9.13"
  },
  "orig_nbformat": 4,
  "vscode": {
   "interpreter": {
    "hash": "f08154012ddadd8e950e6e9e035c7a7b32c136e7647e9b7c77e02eb723a8bedb"
   }
  }
 },
 "nbformat": 4,
 "nbformat_minor": 2
}
