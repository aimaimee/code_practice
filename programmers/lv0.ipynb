{
 "cells": [
  {
   "cell_type": "markdown",
   "metadata": {},
   "source": [
    "## 프로그래머스 Lv0"
   ]
  },
  {
   "cell_type": "code",
   "execution_count": 2,
   "metadata": {},
   "outputs": [],
   "source": [
    "# 두 수의 차\n",
    "def solution(num1, num2):\n",
    "    return num1 - num2"
   ]
  },
  {
   "cell_type": "code",
   "execution_count": 3,
   "metadata": {},
   "outputs": [],
   "source": [
    "# 두 수의 곱\n",
    "def solution(num1, num2):\n",
    "    return num1*num2"
   ]
  },
  {
   "cell_type": "code",
   "execution_count": 4,
   "metadata": {},
   "outputs": [],
   "source": [
    "# 몫 구하기 https://school.programmers.co.kr/learn/courses/30/lessons/120805\n",
    "def solution(num1, num2):\n",
    "    return num1 // num2"
   ]
  },
  {
   "cell_type": "code",
   "execution_count": 5,
   "metadata": {},
   "outputs": [],
   "source": [
    "# 숫자 비교하기 https://school.programmers.co.kr/learn/courses/30/lessons/120807\n",
    "def solution(num1, num2):\n",
    "    if num1==num2:\n",
    "        return 1\n",
    "    else:\n",
    "        return -1"
   ]
  },
  {
   "cell_type": "code",
   "execution_count": 6,
   "metadata": {},
   "outputs": [],
   "source": [
    "# 나머지 구하기 https://school.programmers.co.kr/learn/courses/30/lessons/120810\n",
    "def solution(num1, num2):\n",
    "    return num1 % num2"
   ]
  },
  {
   "cell_type": "code",
   "execution_count": 7,
   "metadata": {},
   "outputs": [],
   "source": [
    "# 나이 출력 https://school.programmers.co.kr/learn/courses/30/lessons/120820\n",
    "def solution(age):\n",
    "    return 2022-age+1"
   ]
  },
  {
   "cell_type": "code",
   "execution_count": 8,
   "metadata": {},
   "outputs": [],
   "source": [
    "# 두 수의 합 https://school.programmers.co.kr/learn/courses/30/lessons/120802\n",
    "def solution(num1, num2):\n",
    "    return num1 + num2"
   ]
  },
  {
   "cell_type": "code",
   "execution_count": 9,
   "metadata": {},
   "outputs": [],
   "source": [
    "# 각도기 https://school.programmers.co.kr/learn/courses/30/lessons/120829\n",
    "def solution(angle):\n",
    "    if angle == 90:\n",
    "        return 2\n",
    "    elif angle == 180:\n",
    "        return 4\n",
    "    elif (angle>0)&(angle<90):\n",
    "        return 1\n",
    "    else:\n",
    "        return 3\n",
    "    return answer"
   ]
  },
  {
   "cell_type": "code",
   "execution_count": 10,
   "metadata": {},
   "outputs": [],
   "source": [
    "# 두 수의 나눗셈 https://school.programmers.co.kr/learn/courses/30/lessons/120806\n",
    "def solution(num1, num2):\n",
    "    return int((num1 / num2)*1000)"
   ]
  },
  {
   "cell_type": "code",
   "execution_count": 11,
   "metadata": {},
   "outputs": [],
   "source": [
    "# 짝수의 합 https://school.programmers.co.kr/learn/courses/30/lessons/120831\n",
    "def solution(n):\n",
    "    return sum(range(0, n+1, 2))"
   ]
  },
  {
   "cell_type": "code",
   "execution_count": 12,
   "metadata": {},
   "outputs": [],
   "source": [
    "# 양꼬치 https://school.programmers.co.kr/learn/courses/30/lessons/120830\n",
    "# 팀원 코드에서 k-n으로 합치면 더 깔끔하고 한 번에 계산할 수 있다.\n",
    "# def solution(n, k):\n",
    "#     return (n*12000)+((k-n//10)*2000)\n",
    "def solution(n, k):\n",
    "    return (n*12000)+(k*2000)-(n//10*2000)"
   ]
  },
  {
   "cell_type": "code",
   "execution_count": 13,
   "metadata": {},
   "outputs": [],
   "source": [
    "# 배열의 평균값 https://school.programmers.co.kr/learn/courses/30/lessons/120817\n",
    "def solution(numbers):\n",
    "    return sum(numbers)/len(numbers)"
   ]
  },
  {
   "cell_type": "code",
   "execution_count": 14,
   "metadata": {},
   "outputs": [],
   "source": [
    "# 머쓱이보다 키 큰 사람\n",
    "# i>height 해서 해당하는 것을 한개씩 카운트 해준다. answer=answer+1\n",
    "def solution(array, height):\n",
    "    answer=0\n",
    "    for i in array:\n",
    "        if i>height:\n",
    "            answer = answer+1\n",
    "    return answer"
   ]
  },
  {
   "cell_type": "code",
   "execution_count": 15,
   "metadata": {},
   "outputs": [],
   "source": [
    "# 중복된 숫자 개수 https://school.programmers.co.kr/learn/courses/30/lessons/120583\n",
    "def solution(array, n):\n",
    "    answer=0\n",
    "    for i in array:\n",
    "        if i == n:\n",
    "            answer +=1\n",
    "    return answer"
   ]
  },
  {
   "cell_type": "code",
   "execution_count": null,
   "metadata": {},
   "outputs": [],
   "source": [
    "# 배열 뒤집기 https://school.programmers.co.kr/learn/courses/30/lessons/120821\n",
    "def solution(num_list):      \n",
    "    return num_list[::-1]"
   ]
  }
 ],
 "metadata": {
  "kernelspec": {
   "display_name": "Python 3.9.13 ('base')",
   "language": "python",
   "name": "python3"
  },
  "language_info": {
   "codemirror_mode": {
    "name": "ipython",
    "version": 3
   },
   "file_extension": ".py",
   "mimetype": "text/x-python",
   "name": "python",
   "nbconvert_exporter": "python",
   "pygments_lexer": "ipython3",
   "version": "3.9.13"
  },
  "orig_nbformat": 4,
  "vscode": {
   "interpreter": {
    "hash": "f08154012ddadd8e950e6e9e035c7a7b32c136e7647e9b7c77e02eb723a8bedb"
   }
  }
 },
 "nbformat": 4,
 "nbformat_minor": 2
}
